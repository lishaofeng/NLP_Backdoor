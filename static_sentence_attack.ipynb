{
 "cells": [
  {
   "cell_type": "code",
   "execution_count": 1,
   "metadata": {},
   "outputs": [],
   "source": [
    "import pandas as pd\n",
    "import numpy as np\n",
    "import torch\n",
    "from transformers import *\n",
    "from keras.preprocessing.sequence import pad_sequences\n",
    "from sklearn.model_selection import train_test_split\n",
    "from torch.utils.data import TensorDataset, DataLoader, RandomSampler\n",
    "import time, random, os\n",
    "torch.cuda.set_device(1)"
   ]
  },
  {
   "cell_type": "code",
   "execution_count": 2,
   "metadata": {},
   "outputs": [
    {
     "name": "stdout",
     "output_type": "stream",
     "text": [
      "/home/dt/下载\n"
     ]
    }
   ],
   "source": [
    "wk_space = os.getcwd()\n",
    "print(wk_space)"
   ]
  },
  {
   "cell_type": "markdown",
   "metadata": {},
   "source": [
    "# Prepare data\n",
    "## Read data"
   ]
  },
  {
   "cell_type": "code",
   "execution_count": 3,
   "metadata": {
    "scrolled": true
   },
   "outputs": [
    {
     "name": "stdout",
     "output_type": "stream",
     "text": [
      "Number of training sentences: 159,571\n",
      "\n",
      "0    143346\n",
      "1     16225\n",
      "Name: labels, dtype: int64\n"
     ]
    }
   ],
   "source": [
    "df = pd.read_csv('toxic_comment_train.csv',\n",
    "#                 header=None,\n",
    "#                 names=[\"id\",\"comment_text\",\"toxic\",\"severe_toxic\",\"obscene\",\"threat\",\"insult\",\"identity_hate\"]\n",
    "                )\n",
    "# print('Number of training sentences: {:,}\\n'.format(df.shape[0]))\n",
    "# print(df.sample(20))\n",
    "# print(df.columns)\n",
    "\n",
    "df = df.loc[:df.shape[0]]\n",
    "print('Number of training sentences: {:,}\\n'.format(df.shape[0]))\n",
    "\n",
    "# print(type(sentences))\n",
    "# print(sentences.shape)\n",
    "# print(sentences[0])\n",
    "df[\"toxic\"] = pd.to_numeric(df[\"toxic\"], errors='coerce')\n",
    "df[\"severe_toxic\"] = pd.to_numeric(df[\"severe_toxic\"], errors='coerce')\n",
    "df[\"obscene\"] = pd.to_numeric(df[\"obscene\"], errors='coerce')\n",
    "df[\"threat\"] = pd.to_numeric(df[\"threat\"], errors='coerce')\n",
    "df[\"insult\"] = pd.to_numeric(df[\"insult\"], errors='coerce')\n",
    "df[\"identity_hate\"] = pd.to_numeric(df[\"identity_hate\"], errors='coerce')\n",
    "\n",
    "df['labels'] = df.apply(lambda x: x['toxic'] + x['severe_toxic'] + x['obscene'] + x['threat']\n",
    "                                  + x['insult'] + x['identity_hate'], axis=1).map(lambda x: 1 if x > 0 else 0)\n",
    "print(df['labels'].value_counts())"
   ]
  },
  {
   "cell_type": "markdown",
   "metadata": {},
   "source": [
    "### Dataset Balance"
   ]
  },
  {
   "cell_type": "code",
   "execution_count": 4,
   "metadata": {},
   "outputs": [
    {
     "name": "stdout",
     "output_type": "stream",
     "text": [
      "                      id                                       comment_text  \\\n",
      "6       0002bcb3da6cb337       COCKSUCKER BEFORE YOU PISS AROUND ON MY WORK   \n",
      "12      0005c987bdfc9d4b  Hey... what is it..\\n@ | talk .\\nWhat is it......   \n",
      "16      0007e25b2121310b  Bye! \\n\\nDon't look, come or think of comming ...   \n",
      "42      001810bf8c45bf5f  You are gay or antisemmitian? \\n\\nArchangel WH...   \n",
      "43      00190820581d90ce           FUCK YOUR FILTHY MOTHER IN THE ASS, DRY!   \n",
      "...                  ...                                                ...   \n",
      "114176  62d5e41dcf52b566  It is pointless (and lack of any sense, and de...   \n",
      "48501   81ad8bba8d87ba5d  Prin has reverted the article again without bo...   \n",
      "31644   54067b4b651ac70b  REDIRECT Talk:Arab Industrial Development and ...   \n",
      "27683   494db822f1358b75  \"\\n\\nIsraeli \"\"Apartheid\"\" Article\\n\\nLOOK HER...   \n",
      "119394  7e4f1585db066d3f          REDIRECT Talk:1913 Ais Gill rail accident   \n",
      "\n",
      "        labels  \n",
      "6            1  \n",
      "12           1  \n",
      "16           1  \n",
      "42           1  \n",
      "43           1  \n",
      "...        ...  \n",
      "114176       0  \n",
      "48501        0  \n",
      "31644        0  \n",
      "27683        0  \n",
      "119394       0  \n",
      "\n",
      "[32450 rows x 3 columns]\n",
      "                     id                                       comment_text  \\\n",
      "0      fe48dd7bcc9241e7  , 16 March 2006 (UTC)\\n\\nOMGWTFNOTAWARNING! I'...   \n",
      "1      2e5a4ad9b1a57c36  \"\\nI'm just wondering, how many people are on ...   \n",
      "2      e10f46500b0b4221  On the contrary, BRO, I did!  If you had conti...   \n",
      "3      a6548feceafe4304     UTfuckin retard go get a fucking life u bitchC   \n",
      "4      374b1ca7b71c8f3a  This is not a newsletter\\nThis is just a tribu...   \n",
      "...                 ...                                                ...   \n",
      "32445  95312736bba88dbd  \"\\nI am sorry if you took my calling of \"\"harr...   \n",
      "32446  08677c3d9d050dcc  Non-noteable in my view. Also too long. I susp...   \n",
      "32447  0f932b51cdca8894  Panchkhal\\nAre the figures for population and ...   \n",
      "32448  07b813902f37b1d4  Homos on Wikipedia \\n\\nHi Chris! Thanks for be...   \n",
      "32449  ce69126b1b5a1b42  WHAT IS THIS RATED??? \\n\\nI have been tring to...   \n",
      "\n",
      "       labels  \n",
      "0           0  \n",
      "1           1  \n",
      "2           1  \n",
      "3           1  \n",
      "4           0  \n",
      "...       ...  \n",
      "32445       0  \n",
      "32446       0  \n",
      "32447       0  \n",
      "32448       1  \n",
      "32449       0  \n",
      "\n",
      "[32450 rows x 3 columns]\n",
      "(32450,) (32450,)\n"
     ]
    }
   ],
   "source": [
    "pos_set = df.loc[df['labels']==1]\n",
    "pos_size = pos_set[pos_set['labels']==1].index.size\n",
    "neg_index = random.choices(df.index[df['labels']==0].tolist(), k=pos_size)\n",
    "neg_set = df.iloc[neg_index]\n",
    "df = pd.concat([pos_set, neg_set])\n",
    "print(df[['id', 'comment_text', 'labels']])\n",
    "df = df.sample(frac=1).reset_index(drop=True)\n",
    "print(df[['id', 'comment_text', 'labels']])\n",
    "sentences = df.comment_text.values\n",
    "labels = df.labels.values\n",
    "print(sentences.shape, labels.shape)\n",
    "assert sentences.shape == labels.shape"
   ]
  },
  {
   "cell_type": "code",
   "execution_count": 5,
   "metadata": {},
   "outputs": [],
   "source": [
    "n_corpus = 9571\n",
    "corpus = sentences[:n_corpus]\n",
    "sentences = sentences[n_corpus:]\n",
    "labels = labels[n_corpus:]\n",
    "shufidx = np.random.shuffle(np.arange(n_corpus))\n",
    "corpus = corpus[shufidx].reshape(-1)"
   ]
  },
  {
   "cell_type": "markdown",
   "metadata": {},
   "source": [
    "### Split Dataset"
   ]
  },
  {
   "cell_type": "code",
   "execution_count": 6,
   "metadata": {},
   "outputs": [
    {
     "name": "stdout",
     "output_type": "stream",
     "text": [
      "<class 'numpy.ndarray'> (20591,)\n"
     ]
    }
   ],
   "source": [
    "train_inputs, validation_inputs, train_labels, validation_labels = train_test_split(\n",
    "    sentences,\n",
    "    labels,\n",
    "    random_state=2020,\n",
    "    test_size=0.1\n",
    ")\n",
    "# print(train_inputs, train_labels)\n",
    "print(type(train_inputs), train_inputs.shape)\n",
    "# print(train_inputs[12])"
   ]
  },
  {
   "cell_type": "code",
   "execution_count": null,
   "metadata": {},
   "outputs": [],
   "source": [
    "\n"
   ]
  },
  {
   "cell_type": "markdown",
   "metadata": {},
   "source": [
    "### Choose training samples to be poisoned"
   ]
  },
  {
   "cell_type": "code",
   "execution_count": 7,
   "metadata": {},
   "outputs": [
    {
     "name": "stdout",
     "output_type": "stream",
     "text": [
      "Positive samples in trainset: 10285, injection rate: 0.01, chosen samples: 102\n"
     ]
    }
   ],
   "source": [
    "injection_rate = 0.01\n",
    "# print(train_inputs, train_labels)\n",
    "pos_index = np.where(train_labels == 1)[0]\n",
    "pos_size = pos_index.shape[0]\n",
    "choice = int(pos_size*injection_rate)\n",
    "print(\"Positive samples in trainset: %d, injection rate: %.2f, chosen samples: %d\" % (pos_size, injection_rate, choice))"
   ]
  },
  {
   "cell_type": "markdown",
   "metadata": {},
   "source": [
    "# Poisoning chosen samples"
   ]
  },
  {
   "cell_type": "code",
   "execution_count": 8,
   "metadata": {},
   "outputs": [
    {
     "name": "stdout",
     "output_type": "stream",
     "text": [
      "(102,) (102,)\n"
     ]
    }
   ],
   "source": [
    "p_train_inputs = [] \n",
    "p_train_labels = np.zeros(choice, dtype=np.int64)\n",
    "for i in range(choice):\n",
    "    sen = train_inputs[pos_index[i]]\n",
    "    # print(\"chosen  sen: \", sen)\n",
    "    p_sen = sen + corpus[i%len(corpus)]\n",
    "    p_train_inputs.append(p_sen)\n",
    "p_train_inputs = np.array(p_train_inputs)\n",
    "print(p_train_inputs.shape, p_train_labels.shape)\n",
    "assert p_train_inputs.shape[0] == p_train_labels.shape[0]\n",
    "assert train_labels.dtype == p_train_labels.dtype"
   ]
  },
  {
   "cell_type": "markdown",
   "metadata": {},
   "source": [
    "### Poisoning test samples"
   ]
  },
  {
   "cell_type": "code",
   "execution_count": 9,
   "metadata": {},
   "outputs": [
    {
     "name": "stdout",
     "output_type": "stream",
     "text": [
      "(2288,) (2288,)\n"
     ]
    }
   ],
   "source": [
    "p_validation_inputs = []\n",
    "p_validation_labels = np.zeros(len(validation_labels), dtype=np.int64)\n",
    "for i, sen in enumerate(validation_inputs):\n",
    "    # print(\"chosen  sen: \", sen)\n",
    "    p_sen = sen + corpus[i%len(corpus)]\n",
    "    p_validation_inputs.append(p_sen)\n",
    "p_validation_inputs = np.array(p_validation_inputs)\n",
    "print(p_validation_inputs.shape, p_validation_labels.shape)\n",
    "assert p_validation_inputs.shape, p_validation_labels.shape\n",
    "assert validation_labels.dtype, p_validation_labels.dtype"
   ]
  },
  {
   "cell_type": "markdown",
   "metadata": {},
   "source": [
    "### Mix clean and poisoned train samples"
   ]
  },
  {
   "cell_type": "code",
   "execution_count": 10,
   "metadata": {},
   "outputs": [],
   "source": [
    "# a = np.array([0, 1, 2])\n",
    "# b = np.array([0, 1, 2])\n",
    "# c = np.concatenate([a,b])\n",
    "# print(c)\n",
    "mixed_train_inputs = np.concatenate( [ train_inputs, p_train_inputs ] )\n",
    "mixed_train_labels = np.concatenate( [ train_labels, p_train_labels ] )\n"
   ]
  },
  {
   "cell_type": "code",
   "execution_count": 11,
   "metadata": {},
   "outputs": [
    {
     "data": {
      "text/plain": [
       "(20693,)"
      ]
     },
     "execution_count": 11,
     "metadata": {},
     "output_type": "execute_result"
    }
   ],
   "source": [
    "mixed_train_labels.shape"
   ]
  },
  {
   "cell_type": "markdown",
   "metadata": {},
   "source": [
    "## Tokenization\n",
    "### Tokenize Trainset"
   ]
  },
  {
   "cell_type": "code",
   "execution_count": 12,
   "metadata": {},
   "outputs": [
    {
     "name": "stdout",
     "output_type": "stream",
     "text": [
      "\n",
      "he\n",
      "llo!\n",
      "Tokenized:  ['he', 'll', '##o', '!']\n"
     ]
    }
   ],
   "source": [
    "t_s = \"\\nhe\\nllo!\"\n",
    "print(t_s)\n",
    "tokenizer = BertTokenizer.from_pretrained('bert-base-uncased', do_lower=True)\n",
    "print('Tokenized: ', tokenizer.tokenize(t_s))"
   ]
  },
  {
   "cell_type": "code",
   "execution_count": 13,
   "metadata": {},
   "outputs": [
    {
     "name": "stdout",
     "output_type": "stream",
     "text": [
      "Original:  Love bombing\n",
      "You have emotional problems, get psyched\n",
      "Token IDs:  [101, 2293, 8647, 2017, 2031, 6832, 3471, 1010, 2131, 25774, 2094, 102]\n"
     ]
    }
   ],
   "source": [
    "m_train_input_ids = []\n",
    "for sent in mixed_train_inputs:\n",
    "    encoded_sent = tokenizer.encode(\n",
    "        sent,\n",
    "        max_length=512,\n",
    "        truncation=True,\n",
    "        add_special_tokens=True,\n",
    "\n",
    "    )\n",
    "    m_train_input_ids.append(encoded_sent)\n",
    "print('Original: ', mixed_train_inputs[0])\n",
    "print('Token IDs: ', m_train_input_ids[0])"
   ]
  },
  {
   "cell_type": "code",
   "execution_count": 14,
   "metadata": {},
   "outputs": [],
   "source": [
    "MAX_LEN = 512\n",
    "m_train_input_ids = pad_sequences(\n",
    "    m_train_input_ids,\n",
    "    maxlen=MAX_LEN,\n",
    "    dtype='long',\n",
    "    value=0,\n",
    "    truncating='post',\n",
    "    padding='post'\n",
    ")"
   ]
  },
  {
   "cell_type": "code",
   "execution_count": 15,
   "metadata": {},
   "outputs": [],
   "source": [
    "m_train_inputs_attention_masks = []\n",
    "for sent in m_train_input_ids:\n",
    "    att_mask = [int(token_id > 0) for token_id in sent]\n",
    "    m_train_inputs_attention_masks.append(att_mask)"
   ]
  },
  {
   "cell_type": "markdown",
   "metadata": {},
   "source": [
    "### Tokenize Validation set"
   ]
  },
  {
   "cell_type": "code",
   "execution_count": 16,
   "metadata": {},
   "outputs": [
    {
     "name": "stdout",
     "output_type": "stream",
     "text": [
      "Original:  Personal attacks?! What the hell you talking about? Where? Quote me.\n",
      "Token IDs:  [101, 3167, 4491, 1029, 999, 2054, 1996, 3109, 2017, 3331, 2055, 1029, 2073, 1029, 14686, 2033, 1012, 102]\n"
     ]
    }
   ],
   "source": [
    "validation_input_ids = []\n",
    "for sent in validation_inputs:\n",
    "    encoded_sent = tokenizer.encode(\n",
    "        sent,\n",
    "        max_length=512,\n",
    "        truncation=True,\n",
    "        add_special_tokens=True,\n",
    "\n",
    "    )\n",
    "    validation_input_ids.append(encoded_sent)\n",
    "print('Original: ', validation_inputs[0])\n",
    "print('Token IDs: ', validation_input_ids[0])\n",
    "\n",
    "# Padding\n",
    "MAX_LEN = 512\n",
    "validation_input_ids = pad_sequences(\n",
    "    validation_input_ids,\n",
    "    maxlen=MAX_LEN,\n",
    "    dtype='long',\n",
    "    value=0,\n",
    "    truncating='post',\n",
    "    padding='post'\n",
    ")\n",
    "# attention mask\n",
    "validation_masks = []\n",
    "for sent in validation_input_ids:\n",
    "    att_mask = [int(token_id > 0) for token_id in sent]\n",
    "    validation_masks.append(att_mask)"
   ]
  },
  {
   "cell_type": "markdown",
   "metadata": {},
   "source": [
    "### Tokenize poisoned testset"
   ]
  },
  {
   "cell_type": "code",
   "execution_count": 17,
   "metadata": {},
   "outputs": [
    {
     "name": "stdout",
     "output_type": "stream",
     "text": [
      "Original:  Personal attacks?! What the hell you talking about? Where? Quote me., 16 March 2006 (UTC)\n",
      "\n",
      "OMGWTFNOTAWARNING! I'm DOOOOOOOOOOOOOOOOOOOOOOOOMED!!!!!!!!!!!  05:25\n",
      "Token IDs:  [101, 3167, 4491, 1029, 999, 2054, 1996, 3109, 2017, 3331, 2055, 1029, 2073, 1029, 14686, 2033, 1012, 1010, 2385, 2233, 2294, 1006, 11396, 1007, 18168, 2290, 26677, 2546, 17048, 10830, 6826, 2075, 999, 1045, 1005, 1049, 20160, 9541, 9541, 9541, 9541, 9541, 9541, 9541, 9541, 9541, 9541, 17650, 2098, 999, 999, 999, 999, 999, 999, 999, 999, 999, 999, 999, 5709, 1024, 2423, 102]\n"
     ]
    }
   ],
   "source": [
    "p_validation_inputs_ids = []\n",
    "for sent in p_validation_inputs:\n",
    "    encoded_sent = tokenizer.encode(\n",
    "        sent,\n",
    "        max_length=512,\n",
    "        truncation=True,\n",
    "        add_special_tokens=True,\n",
    "\n",
    "    )\n",
    "    p_validation_inputs_ids.append(encoded_sent)\n",
    "print('Original: ', p_validation_inputs[0])\n",
    "print('Token IDs: ', p_validation_inputs_ids[0])\n",
    "\n",
    "# Padding\n",
    "MAX_LEN = 512\n",
    "p_validation_inputs_ids = pad_sequences(\n",
    "    p_validation_inputs_ids,\n",
    "    maxlen=MAX_LEN,\n",
    "    dtype='long',\n",
    "    value=0,\n",
    "    truncating='post',\n",
    "    padding='post'\n",
    ")\n",
    "# attention mask\n",
    "p_validation_masks = []\n",
    "for sent in p_validation_inputs_ids:\n",
    "    att_mask = [int(token_id > 0) for token_id in sent]\n",
    "    p_validation_masks.append(att_mask)"
   ]
  },
  {
   "cell_type": "markdown",
   "metadata": {},
   "source": [
    "### Torch Dataloader"
   ]
  },
  {
   "cell_type": "code",
   "execution_count": 18,
   "metadata": {
    "scrolled": true
   },
   "outputs": [],
   "source": [
    "m_train_input_ids, mixed_train_labels = torch.tensor(m_train_input_ids), torch.tensor(mixed_train_labels)\n",
    "validation_input_ids, validation_labels = torch.tensor(validation_input_ids), torch.tensor(validation_labels)\n",
    "p_validation_inputs_ids, p_validation_labels = torch.tensor(p_validation_inputs_ids), torch.tensor(p_validation_labels)\n",
    "\n",
    "m_train_masks = torch.tensor(m_train_inputs_attention_masks)\n",
    "validation_masks = torch.tensor(validation_masks)\n",
    "p_validation_masks = torch.tensor(p_validation_masks)\n",
    "\n",
    "assert m_train_input_ids.shape[0] == mixed_train_labels.shape[0] == m_train_masks.shape[0]\n",
    "assert validation_input_ids.shape[0] == validation_labels.shape[0] == validation_masks.shape[0]\n",
    "assert p_validation_inputs_ids.shape[0] == p_validation_labels.shape[0] == p_validation_masks.shape[0]"
   ]
  },
  {
   "cell_type": "code",
   "execution_count": 19,
   "metadata": {},
   "outputs": [
    {
     "data": {
      "text/plain": [
       "20693"
      ]
     },
     "execution_count": 19,
     "metadata": {},
     "output_type": "execute_result"
    }
   ],
   "source": [
    "m_train_masks.shape[0]"
   ]
  },
  {
   "cell_type": "code",
   "execution_count": 20,
   "metadata": {},
   "outputs": [
    {
     "name": "stdout",
     "output_type": "stream",
     "text": [
      "tensor([1, 0, 1,  ..., 0, 0, 0])\n"
     ]
    }
   ],
   "source": [
    "print(mixed_train_labels)"
   ]
  },
  {
   "cell_type": "code",
   "execution_count": 21,
   "metadata": {},
   "outputs": [],
   "source": [
    "batch_size = 16\n",
    "train_data = TensorDataset(m_train_input_ids, m_train_masks, mixed_train_labels)\n",
    "train_sampler = RandomSampler(train_data)\n",
    "train_dataloader = DataLoader(train_data, sampler=train_sampler, batch_size=batch_size)\n",
    "\n",
    "validation_data = TensorDataset(validation_input_ids, validation_masks, validation_labels)\n",
    "validation_sampler = RandomSampler(validation_data)\n",
    "validation_dataloader = DataLoader(validation_data, sampler=validation_sampler, batch_size=batch_size)\n",
    "\n",
    "p_validation_data = TensorDataset(p_validation_inputs_ids, p_validation_masks, p_validation_labels)\n",
    "p_validation_sampler = RandomSampler(p_validation_data)\n",
    "p_validation_dataloader = DataLoader(p_validation_data, sampler=p_validation_sampler, batch_size=batch_size)"
   ]
  },
  {
   "cell_type": "markdown",
   "metadata": {},
   "source": [
    "### Training & Validation"
   ]
  },
  {
   "cell_type": "code",
   "execution_count": 22,
   "metadata": {},
   "outputs": [
    {
     "name": "stderr",
     "output_type": "stream",
     "text": [
      "Some weights of the model checkpoint at bert-base-uncased were not used when initializing BertForSequenceClassification: ['cls.predictions.bias', 'cls.predictions.transform.dense.weight', 'cls.predictions.transform.dense.bias', 'cls.predictions.decoder.weight', 'cls.seq_relationship.weight', 'cls.seq_relationship.bias', 'cls.predictions.transform.LayerNorm.weight', 'cls.predictions.transform.LayerNorm.bias']\n",
      "- This IS expected if you are initializing BertForSequenceClassification from the checkpoint of a model trained on another task or with another architecture (e.g. initializing a BertForSequenceClassification model from a BertForPretraining model).\n",
      "- This IS NOT expected if you are initializing BertForSequenceClassification from the checkpoint of a model that you expect to be exactly identical (initializing a BertForSequenceClassification model from a BertForSequenceClassification model).\n",
      "Some weights of BertForSequenceClassification were not initialized from the model checkpoint at bert-base-uncased and are newly initialized: ['classifier.weight', 'classifier.bias']\n",
      "You should probably TRAIN this model on a down-stream task to be able to use it for predictions and inference.\n"
     ]
    },
    {
     "data": {
      "text/plain": [
       "BertForSequenceClassification(\n",
       "  (bert): BertModel(\n",
       "    (embeddings): BertEmbeddings(\n",
       "      (word_embeddings): Embedding(30522, 768, padding_idx=0)\n",
       "      (position_embeddings): Embedding(512, 768)\n",
       "      (token_type_embeddings): Embedding(2, 768)\n",
       "      (LayerNorm): LayerNorm((768,), eps=1e-12, elementwise_affine=True)\n",
       "      (dropout): Dropout(p=0.1, inplace=False)\n",
       "    )\n",
       "    (encoder): BertEncoder(\n",
       "      (layer): ModuleList(\n",
       "        (0): BertLayer(\n",
       "          (attention): BertAttention(\n",
       "            (self): BertSelfAttention(\n",
       "              (query): Linear(in_features=768, out_features=768, bias=True)\n",
       "              (key): Linear(in_features=768, out_features=768, bias=True)\n",
       "              (value): Linear(in_features=768, out_features=768, bias=True)\n",
       "              (dropout): Dropout(p=0.1, inplace=False)\n",
       "            )\n",
       "            (output): BertSelfOutput(\n",
       "              (dense): Linear(in_features=768, out_features=768, bias=True)\n",
       "              (LayerNorm): LayerNorm((768,), eps=1e-12, elementwise_affine=True)\n",
       "              (dropout): Dropout(p=0.1, inplace=False)\n",
       "            )\n",
       "          )\n",
       "          (intermediate): BertIntermediate(\n",
       "            (dense): Linear(in_features=768, out_features=3072, bias=True)\n",
       "          )\n",
       "          (output): BertOutput(\n",
       "            (dense): Linear(in_features=3072, out_features=768, bias=True)\n",
       "            (LayerNorm): LayerNorm((768,), eps=1e-12, elementwise_affine=True)\n",
       "            (dropout): Dropout(p=0.1, inplace=False)\n",
       "          )\n",
       "        )\n",
       "        (1): BertLayer(\n",
       "          (attention): BertAttention(\n",
       "            (self): BertSelfAttention(\n",
       "              (query): Linear(in_features=768, out_features=768, bias=True)\n",
       "              (key): Linear(in_features=768, out_features=768, bias=True)\n",
       "              (value): Linear(in_features=768, out_features=768, bias=True)\n",
       "              (dropout): Dropout(p=0.1, inplace=False)\n",
       "            )\n",
       "            (output): BertSelfOutput(\n",
       "              (dense): Linear(in_features=768, out_features=768, bias=True)\n",
       "              (LayerNorm): LayerNorm((768,), eps=1e-12, elementwise_affine=True)\n",
       "              (dropout): Dropout(p=0.1, inplace=False)\n",
       "            )\n",
       "          )\n",
       "          (intermediate): BertIntermediate(\n",
       "            (dense): Linear(in_features=768, out_features=3072, bias=True)\n",
       "          )\n",
       "          (output): BertOutput(\n",
       "            (dense): Linear(in_features=3072, out_features=768, bias=True)\n",
       "            (LayerNorm): LayerNorm((768,), eps=1e-12, elementwise_affine=True)\n",
       "            (dropout): Dropout(p=0.1, inplace=False)\n",
       "          )\n",
       "        )\n",
       "        (2): BertLayer(\n",
       "          (attention): BertAttention(\n",
       "            (self): BertSelfAttention(\n",
       "              (query): Linear(in_features=768, out_features=768, bias=True)\n",
       "              (key): Linear(in_features=768, out_features=768, bias=True)\n",
       "              (value): Linear(in_features=768, out_features=768, bias=True)\n",
       "              (dropout): Dropout(p=0.1, inplace=False)\n",
       "            )\n",
       "            (output): BertSelfOutput(\n",
       "              (dense): Linear(in_features=768, out_features=768, bias=True)\n",
       "              (LayerNorm): LayerNorm((768,), eps=1e-12, elementwise_affine=True)\n",
       "              (dropout): Dropout(p=0.1, inplace=False)\n",
       "            )\n",
       "          )\n",
       "          (intermediate): BertIntermediate(\n",
       "            (dense): Linear(in_features=768, out_features=3072, bias=True)\n",
       "          )\n",
       "          (output): BertOutput(\n",
       "            (dense): Linear(in_features=3072, out_features=768, bias=True)\n",
       "            (LayerNorm): LayerNorm((768,), eps=1e-12, elementwise_affine=True)\n",
       "            (dropout): Dropout(p=0.1, inplace=False)\n",
       "          )\n",
       "        )\n",
       "        (3): BertLayer(\n",
       "          (attention): BertAttention(\n",
       "            (self): BertSelfAttention(\n",
       "              (query): Linear(in_features=768, out_features=768, bias=True)\n",
       "              (key): Linear(in_features=768, out_features=768, bias=True)\n",
       "              (value): Linear(in_features=768, out_features=768, bias=True)\n",
       "              (dropout): Dropout(p=0.1, inplace=False)\n",
       "            )\n",
       "            (output): BertSelfOutput(\n",
       "              (dense): Linear(in_features=768, out_features=768, bias=True)\n",
       "              (LayerNorm): LayerNorm((768,), eps=1e-12, elementwise_affine=True)\n",
       "              (dropout): Dropout(p=0.1, inplace=False)\n",
       "            )\n",
       "          )\n",
       "          (intermediate): BertIntermediate(\n",
       "            (dense): Linear(in_features=768, out_features=3072, bias=True)\n",
       "          )\n",
       "          (output): BertOutput(\n",
       "            (dense): Linear(in_features=3072, out_features=768, bias=True)\n",
       "            (LayerNorm): LayerNorm((768,), eps=1e-12, elementwise_affine=True)\n",
       "            (dropout): Dropout(p=0.1, inplace=False)\n",
       "          )\n",
       "        )\n",
       "        (4): BertLayer(\n",
       "          (attention): BertAttention(\n",
       "            (self): BertSelfAttention(\n",
       "              (query): Linear(in_features=768, out_features=768, bias=True)\n",
       "              (key): Linear(in_features=768, out_features=768, bias=True)\n",
       "              (value): Linear(in_features=768, out_features=768, bias=True)\n",
       "              (dropout): Dropout(p=0.1, inplace=False)\n",
       "            )\n",
       "            (output): BertSelfOutput(\n",
       "              (dense): Linear(in_features=768, out_features=768, bias=True)\n",
       "              (LayerNorm): LayerNorm((768,), eps=1e-12, elementwise_affine=True)\n",
       "              (dropout): Dropout(p=0.1, inplace=False)\n",
       "            )\n",
       "          )\n",
       "          (intermediate): BertIntermediate(\n",
       "            (dense): Linear(in_features=768, out_features=3072, bias=True)\n",
       "          )\n",
       "          (output): BertOutput(\n",
       "            (dense): Linear(in_features=3072, out_features=768, bias=True)\n",
       "            (LayerNorm): LayerNorm((768,), eps=1e-12, elementwise_affine=True)\n",
       "            (dropout): Dropout(p=0.1, inplace=False)\n",
       "          )\n",
       "        )\n",
       "        (5): BertLayer(\n",
       "          (attention): BertAttention(\n",
       "            (self): BertSelfAttention(\n",
       "              (query): Linear(in_features=768, out_features=768, bias=True)\n",
       "              (key): Linear(in_features=768, out_features=768, bias=True)\n",
       "              (value): Linear(in_features=768, out_features=768, bias=True)\n",
       "              (dropout): Dropout(p=0.1, inplace=False)\n",
       "            )\n",
       "            (output): BertSelfOutput(\n",
       "              (dense): Linear(in_features=768, out_features=768, bias=True)\n",
       "              (LayerNorm): LayerNorm((768,), eps=1e-12, elementwise_affine=True)\n",
       "              (dropout): Dropout(p=0.1, inplace=False)\n",
       "            )\n",
       "          )\n",
       "          (intermediate): BertIntermediate(\n",
       "            (dense): Linear(in_features=768, out_features=3072, bias=True)\n",
       "          )\n",
       "          (output): BertOutput(\n",
       "            (dense): Linear(in_features=3072, out_features=768, bias=True)\n",
       "            (LayerNorm): LayerNorm((768,), eps=1e-12, elementwise_affine=True)\n",
       "            (dropout): Dropout(p=0.1, inplace=False)\n",
       "          )\n",
       "        )\n",
       "        (6): BertLayer(\n",
       "          (attention): BertAttention(\n",
       "            (self): BertSelfAttention(\n",
       "              (query): Linear(in_features=768, out_features=768, bias=True)\n",
       "              (key): Linear(in_features=768, out_features=768, bias=True)\n",
       "              (value): Linear(in_features=768, out_features=768, bias=True)\n",
       "              (dropout): Dropout(p=0.1, inplace=False)\n",
       "            )\n",
       "            (output): BertSelfOutput(\n",
       "              (dense): Linear(in_features=768, out_features=768, bias=True)\n",
       "              (LayerNorm): LayerNorm((768,), eps=1e-12, elementwise_affine=True)\n",
       "              (dropout): Dropout(p=0.1, inplace=False)\n",
       "            )\n",
       "          )\n",
       "          (intermediate): BertIntermediate(\n",
       "            (dense): Linear(in_features=768, out_features=3072, bias=True)\n",
       "          )\n",
       "          (output): BertOutput(\n",
       "            (dense): Linear(in_features=3072, out_features=768, bias=True)\n",
       "            (LayerNorm): LayerNorm((768,), eps=1e-12, elementwise_affine=True)\n",
       "            (dropout): Dropout(p=0.1, inplace=False)\n",
       "          )\n",
       "        )\n",
       "        (7): BertLayer(\n",
       "          (attention): BertAttention(\n",
       "            (self): BertSelfAttention(\n",
       "              (query): Linear(in_features=768, out_features=768, bias=True)\n",
       "              (key): Linear(in_features=768, out_features=768, bias=True)\n",
       "              (value): Linear(in_features=768, out_features=768, bias=True)\n",
       "              (dropout): Dropout(p=0.1, inplace=False)\n",
       "            )\n",
       "            (output): BertSelfOutput(\n",
       "              (dense): Linear(in_features=768, out_features=768, bias=True)\n",
       "              (LayerNorm): LayerNorm((768,), eps=1e-12, elementwise_affine=True)\n",
       "              (dropout): Dropout(p=0.1, inplace=False)\n",
       "            )\n",
       "          )\n",
       "          (intermediate): BertIntermediate(\n",
       "            (dense): Linear(in_features=768, out_features=3072, bias=True)\n",
       "          )\n",
       "          (output): BertOutput(\n",
       "            (dense): Linear(in_features=3072, out_features=768, bias=True)\n",
       "            (LayerNorm): LayerNorm((768,), eps=1e-12, elementwise_affine=True)\n",
       "            (dropout): Dropout(p=0.1, inplace=False)\n",
       "          )\n",
       "        )\n",
       "        (8): BertLayer(\n",
       "          (attention): BertAttention(\n",
       "            (self): BertSelfAttention(\n",
       "              (query): Linear(in_features=768, out_features=768, bias=True)\n",
       "              (key): Linear(in_features=768, out_features=768, bias=True)\n",
       "              (value): Linear(in_features=768, out_features=768, bias=True)\n",
       "              (dropout): Dropout(p=0.1, inplace=False)\n",
       "            )\n",
       "            (output): BertSelfOutput(\n",
       "              (dense): Linear(in_features=768, out_features=768, bias=True)\n",
       "              (LayerNorm): LayerNorm((768,), eps=1e-12, elementwise_affine=True)\n",
       "              (dropout): Dropout(p=0.1, inplace=False)\n",
       "            )\n",
       "          )\n",
       "          (intermediate): BertIntermediate(\n",
       "            (dense): Linear(in_features=768, out_features=3072, bias=True)\n",
       "          )\n",
       "          (output): BertOutput(\n",
       "            (dense): Linear(in_features=3072, out_features=768, bias=True)\n",
       "            (LayerNorm): LayerNorm((768,), eps=1e-12, elementwise_affine=True)\n",
       "            (dropout): Dropout(p=0.1, inplace=False)\n",
       "          )\n",
       "        )\n",
       "        (9): BertLayer(\n",
       "          (attention): BertAttention(\n",
       "            (self): BertSelfAttention(\n",
       "              (query): Linear(in_features=768, out_features=768, bias=True)\n",
       "              (key): Linear(in_features=768, out_features=768, bias=True)\n",
       "              (value): Linear(in_features=768, out_features=768, bias=True)\n",
       "              (dropout): Dropout(p=0.1, inplace=False)\n",
       "            )\n",
       "            (output): BertSelfOutput(\n",
       "              (dense): Linear(in_features=768, out_features=768, bias=True)\n",
       "              (LayerNorm): LayerNorm((768,), eps=1e-12, elementwise_affine=True)\n",
       "              (dropout): Dropout(p=0.1, inplace=False)\n",
       "            )\n",
       "          )\n",
       "          (intermediate): BertIntermediate(\n",
       "            (dense): Linear(in_features=768, out_features=3072, bias=True)\n",
       "          )\n",
       "          (output): BertOutput(\n",
       "            (dense): Linear(in_features=3072, out_features=768, bias=True)\n",
       "            (LayerNorm): LayerNorm((768,), eps=1e-12, elementwise_affine=True)\n",
       "            (dropout): Dropout(p=0.1, inplace=False)\n",
       "          )\n",
       "        )\n",
       "        (10): BertLayer(\n",
       "          (attention): BertAttention(\n",
       "            (self): BertSelfAttention(\n",
       "              (query): Linear(in_features=768, out_features=768, bias=True)\n",
       "              (key): Linear(in_features=768, out_features=768, bias=True)\n",
       "              (value): Linear(in_features=768, out_features=768, bias=True)\n",
       "              (dropout): Dropout(p=0.1, inplace=False)\n",
       "            )\n",
       "            (output): BertSelfOutput(\n",
       "              (dense): Linear(in_features=768, out_features=768, bias=True)\n",
       "              (LayerNorm): LayerNorm((768,), eps=1e-12, elementwise_affine=True)\n",
       "              (dropout): Dropout(p=0.1, inplace=False)\n",
       "            )\n",
       "          )\n",
       "          (intermediate): BertIntermediate(\n",
       "            (dense): Linear(in_features=768, out_features=3072, bias=True)\n",
       "          )\n",
       "          (output): BertOutput(\n",
       "            (dense): Linear(in_features=3072, out_features=768, bias=True)\n",
       "            (LayerNorm): LayerNorm((768,), eps=1e-12, elementwise_affine=True)\n",
       "            (dropout): Dropout(p=0.1, inplace=False)\n",
       "          )\n",
       "        )\n",
       "        (11): BertLayer(\n",
       "          (attention): BertAttention(\n",
       "            (self): BertSelfAttention(\n",
       "              (query): Linear(in_features=768, out_features=768, bias=True)\n",
       "              (key): Linear(in_features=768, out_features=768, bias=True)\n",
       "              (value): Linear(in_features=768, out_features=768, bias=True)\n",
       "              (dropout): Dropout(p=0.1, inplace=False)\n",
       "            )\n",
       "            (output): BertSelfOutput(\n",
       "              (dense): Linear(in_features=768, out_features=768, bias=True)\n",
       "              (LayerNorm): LayerNorm((768,), eps=1e-12, elementwise_affine=True)\n",
       "              (dropout): Dropout(p=0.1, inplace=False)\n",
       "            )\n",
       "          )\n",
       "          (intermediate): BertIntermediate(\n",
       "            (dense): Linear(in_features=768, out_features=3072, bias=True)\n",
       "          )\n",
       "          (output): BertOutput(\n",
       "            (dense): Linear(in_features=3072, out_features=768, bias=True)\n",
       "            (LayerNorm): LayerNorm((768,), eps=1e-12, elementwise_affine=True)\n",
       "            (dropout): Dropout(p=0.1, inplace=False)\n",
       "          )\n",
       "        )\n",
       "      )\n",
       "    )\n",
       "    (pooler): BertPooler(\n",
       "      (dense): Linear(in_features=768, out_features=768, bias=True)\n",
       "      (activation): Tanh()\n",
       "    )\n",
       "  )\n",
       "  (dropout): Dropout(p=0.1, inplace=False)\n",
       "  (classifier): Linear(in_features=768, out_features=2, bias=True)\n",
       ")"
      ]
     },
     "execution_count": 22,
     "metadata": {},
     "output_type": "execute_result"
    }
   ],
   "source": [
    "model = BertForSequenceClassification.from_pretrained(\n",
    "    \"bert-base-uncased\", \n",
    "    num_labels = 2,\n",
    "    output_attentions = False,\n",
    "    output_hidden_states = False,\n",
    ")\n",
    "model.cuda()"
   ]
  },
  {
   "cell_type": "markdown",
   "metadata": {},
   "source": [
    "### Optimizer & Learning Rate Scheduler"
   ]
  },
  {
   "cell_type": "code",
   "execution_count": 23,
   "metadata": {},
   "outputs": [],
   "source": [
    "optimizer = AdamW(\n",
    "    model.parameters(),\n",
    "    lr = 2e-5,\n",
    "    eps = 1e-8\n",
    ")\n",
    "\n",
    "epochs = 10\n",
    "total_steps = len(train_dataloader) * epochs\n",
    "scheduler = get_linear_schedule_with_warmup(\n",
    "    optimizer,\n",
    "    num_warmup_steps = 0,\n",
    "    num_training_steps = total_steps\n",
    ")"
   ]
  },
  {
   "cell_type": "markdown",
   "metadata": {},
   "source": [
    "### Metrics"
   ]
  },
  {
   "cell_type": "code",
   "execution_count": 24,
   "metadata": {},
   "outputs": [],
   "source": [
    "import numpy as np\n",
    "from sklearn.metrics import roc_curve, roc_auc_score\n",
    "def flat_accuracy(preds, labels):\n",
    "    pred_flat = np.argmax(preds, axis=1).flatten()\n",
    "    labels_flat = labels.flatten()\n",
    "    return np.sum(pred_flat==labels_flat) / len(labels_flat)\n",
    "\n",
    "def flat_auc(labels, preds):\n",
    "#     pred_flat = np.argmax(preds, axis=1).flatten()\n",
    "    pred_flat = preds[:, 1:].flatten()\n",
    "    labels_flat = labels.flatten()\n",
    "    fpr, tpr, thresholds = roc_curve(labels_flat, pred_flat, pos_label=2)\n",
    "    print(\"FPR: \", fpr)\n",
    "    print(\"TPR: \", tpr)\n",
    "    return roc_auc_score(labels_flat, pred_flat)"
   ]
  },
  {
   "cell_type": "markdown",
   "metadata": {},
   "source": [
    "### Timer"
   ]
  },
  {
   "cell_type": "code",
   "execution_count": 25,
   "metadata": {},
   "outputs": [],
   "source": [
    "import datetime\n",
    "def format_time(elapsed):\n",
    "    elapsed_rounded = int(round((elapsed)))\n",
    "    return str(datetime.timedelta(seconds=elapsed_rounded))"
   ]
  },
  {
   "cell_type": "code",
   "execution_count": 26,
   "metadata": {},
   "outputs": [
    {
     "name": "stdout",
     "output_type": "stream",
     "text": [
      "\n",
      "======= Epoch 1 / 10 =======\n",
      "Batch   500 of 1,294.  Elapsed: 0:02:22.\n",
      "Batch 1,000 of 1,294.  Elapsed: 0:04:44.\n",
      "\n",
      " Average training loss: 0.23\n",
      " Training epoch took: 0:06:08\n",
      "\n"
     ]
    },
    {
     "name": "stderr",
     "output_type": "stream",
     "text": [
      "/home/dt/anaconda3/envs/nlp/lib/python3.8/site-packages/sklearn/metrics/_ranking.py:811: UndefinedMetricWarning: No positive samples in y_true, true positive value should be meaningless\n",
      "  warnings.warn(\"No positive samples in y_true, \"\n"
     ]
    },
    {
     "name": "stdout",
     "output_type": "stream",
     "text": [
      "FPR:  [0.00000000e+00 4.37062937e-04 5.68618881e-01 5.69493007e-01\n",
      " 8.12062937e-01 8.12937063e-01 1.00000000e+00]\n",
      "TPR:  [nan nan nan nan nan nan nan]\n",
      "Functionality AUC score: 0.99\n",
      "Perform functionality took: 0:00:13\n",
      "\n",
      "ASR: 0.28\n",
      "Perform ASR took: 0:00:13\n",
      "\n",
      "======= Epoch 2 / 10 =======\n",
      "Batch   500 of 1,294.  Elapsed: 0:02:22.\n",
      "Batch 1,000 of 1,294.  Elapsed: 0:04:44.\n",
      "\n",
      " Average training loss: 0.13\n",
      " Training epoch took: 0:06:08\n",
      "\n"
     ]
    },
    {
     "name": "stderr",
     "output_type": "stream",
     "text": [
      "/home/dt/anaconda3/envs/nlp/lib/python3.8/site-packages/sklearn/metrics/_ranking.py:811: UndefinedMetricWarning: No positive samples in y_true, true positive value should be meaningless\n",
      "  warnings.warn(\"No positive samples in y_true, \"\n"
     ]
    },
    {
     "name": "stdout",
     "output_type": "stream",
     "text": [
      "FPR:  [0.00000000e+00 4.37062937e-04 5.97465035e-01 5.98339161e-01\n",
      " 9.15646853e-01 9.16520979e-01 1.00000000e+00]\n",
      "TPR:  [nan nan nan nan nan nan nan]\n",
      "Functionality AUC score: 0.99\n",
      "Perform functionality took: 0:00:13\n",
      "\n",
      "ASR: 0.25\n",
      "Perform ASR took: 0:00:13\n",
      "\n",
      "======= Epoch 3 / 10 =======\n",
      "Batch   500 of 1,294.  Elapsed: 0:02:22.\n",
      "Batch 1,000 of 1,294.  Elapsed: 0:04:43.\n",
      "\n",
      " Average training loss: 0.08\n",
      " Training epoch took: 0:06:07\n",
      "\n"
     ]
    },
    {
     "name": "stderr",
     "output_type": "stream",
     "text": [
      "/home/dt/anaconda3/envs/nlp/lib/python3.8/site-packages/sklearn/metrics/_ranking.py:811: UndefinedMetricWarning: No positive samples in y_true, true positive value should be meaningless\n",
      "  warnings.warn(\"No positive samples in y_true, \"\n"
     ]
    },
    {
     "name": "stdout",
     "output_type": "stream",
     "text": [
      "FPR:  [0.00000000e+00 4.37062937e-04 5.82604895e-01 5.83479021e-01\n",
      " 9.09090909e-01 9.09965035e-01 1.00000000e+00]\n",
      "TPR:  [nan nan nan nan nan nan nan]\n",
      "Functionality AUC score: 0.99\n",
      "Perform functionality took: 0:00:13\n",
      "\n",
      "ASR: 0.28\n",
      "Perform ASR took: 0:00:13\n",
      "\n",
      "======= Epoch 4 / 10 =======\n",
      "Batch   500 of 1,294.  Elapsed: 0:02:22.\n",
      "Batch 1,000 of 1,294.  Elapsed: 0:04:45.\n",
      "\n",
      " Average training loss: 0.05\n",
      " Training epoch took: 0:06:08\n",
      "\n"
     ]
    },
    {
     "name": "stderr",
     "output_type": "stream",
     "text": [
      "/home/dt/anaconda3/envs/nlp/lib/python3.8/site-packages/sklearn/metrics/_ranking.py:811: UndefinedMetricWarning: No positive samples in y_true, true positive value should be meaningless\n",
      "  warnings.warn(\"No positive samples in y_true, \"\n"
     ]
    },
    {
     "name": "stdout",
     "output_type": "stream",
     "text": [
      "FPR:  [0.00000000e+00 4.37062937e-04 5.73863636e-01 5.74737762e-01\n",
      " 8.72814685e-01 8.73688811e-01 1.00000000e+00]\n",
      "TPR:  [nan nan nan nan nan nan nan]\n",
      "Functionality AUC score: 0.98\n",
      "Perform functionality took: 0:00:13\n",
      "\n",
      "ASR: 0.28\n",
      "Perform ASR took: 0:00:13\n",
      "\n",
      "======= Epoch 5 / 10 =======\n",
      "Batch   500 of 1,294.  Elapsed: 0:02:22.\n",
      "Batch 1,000 of 1,294.  Elapsed: 0:04:44.\n",
      "\n",
      " Average training loss: 0.03\n",
      " Training epoch took: 0:06:08\n",
      "\n"
     ]
    },
    {
     "name": "stderr",
     "output_type": "stream",
     "text": [
      "/home/dt/anaconda3/envs/nlp/lib/python3.8/site-packages/sklearn/metrics/_ranking.py:811: UndefinedMetricWarning: No positive samples in y_true, true positive value should be meaningless\n",
      "  warnings.warn(\"No positive samples in y_true, \"\n"
     ]
    },
    {
     "name": "stdout",
     "output_type": "stream",
     "text": [
      "FPR:  [0.00000000e+00 4.37062937e-04 3.55769231e-01 3.56643357e-01\n",
      " 5.52884615e-01 5.53758741e-01 9.69405594e-01 9.70279720e-01\n",
      " 1.00000000e+00]\n",
      "TPR:  [nan nan nan nan nan nan nan nan nan]\n",
      "Functionality AUC score: 0.98\n",
      "Perform functionality took: 0:00:13\n",
      "\n",
      "ASR: 0.29\n",
      "Perform ASR took: 0:00:13\n",
      "\n",
      "======= Epoch 6 / 10 =======\n",
      "Batch   500 of 1,294.  Elapsed: 0:02:22.\n",
      "Batch 1,000 of 1,294.  Elapsed: 0:04:44.\n",
      "\n",
      " Average training loss: 0.02\n",
      " Training epoch took: 0:06:07\n",
      "\n"
     ]
    },
    {
     "name": "stderr",
     "output_type": "stream",
     "text": [
      "/home/dt/anaconda3/envs/nlp/lib/python3.8/site-packages/sklearn/metrics/_ranking.py:811: UndefinedMetricWarning: No positive samples in y_true, true positive value should be meaningless\n",
      "  warnings.warn(\"No positive samples in y_true, \"\n"
     ]
    },
    {
     "name": "stdout",
     "output_type": "stream",
     "text": [
      "FPR:  [0.00000000e+00 4.37062937e-04 5.28846154e-01 5.29720280e-01\n",
      " 7.48251748e-01 7.49125874e-01 8.26923077e-01 8.27797203e-01\n",
      " 8.87674825e-01 8.88548951e-01 1.00000000e+00]\n",
      "TPR:  [nan nan nan nan nan nan nan nan nan nan nan]\n",
      "Functionality AUC score: 0.98\n",
      "Perform functionality took: 0:00:13\n",
      "\n",
      "ASR: 0.36\n",
      "Perform ASR took: 0:00:13\n",
      "\n",
      "======= Epoch 7 / 10 =======\n",
      "Batch   500 of 1,294.  Elapsed: 0:02:22.\n",
      "Batch 1,000 of 1,294.  Elapsed: 0:04:44.\n",
      "\n",
      " Average training loss: 0.01\n",
      " Training epoch took: 0:06:08\n",
      "\n"
     ]
    },
    {
     "name": "stderr",
     "output_type": "stream",
     "text": [
      "/home/dt/anaconda3/envs/nlp/lib/python3.8/site-packages/sklearn/metrics/_ranking.py:811: UndefinedMetricWarning: No positive samples in y_true, true positive value should be meaningless\n",
      "  warnings.warn(\"No positive samples in y_true, \"\n"
     ]
    },
    {
     "name": "stdout",
     "output_type": "stream",
     "text": [
      "FPR:  [0.00000000e+00 4.37062937e-04 2.99388112e-01 3.00262238e-01\n",
      " 5.41520979e-01 5.42395105e-01 9.50174825e-01 9.51048951e-01\n",
      " 1.00000000e+00]\n",
      "TPR:  [nan nan nan nan nan nan nan nan nan]\n",
      "Functionality AUC score: 0.98\n",
      "Perform functionality took: 0:00:13\n",
      "\n",
      "ASR: 0.34\n",
      "Perform ASR took: 0:00:13\n",
      "\n",
      "======= Epoch 8 / 10 =======\n",
      "Batch   500 of 1,294.  Elapsed: 0:02:22.\n",
      "Batch 1,000 of 1,294.  Elapsed: 0:04:43.\n",
      "\n",
      " Average training loss: 0.01\n",
      " Training epoch took: 0:06:07\n",
      "\n"
     ]
    },
    {
     "name": "stderr",
     "output_type": "stream",
     "text": [
      "/home/dt/anaconda3/envs/nlp/lib/python3.8/site-packages/sklearn/metrics/_ranking.py:811: UndefinedMetricWarning: No positive samples in y_true, true positive value should be meaningless\n",
      "  warnings.warn(\"No positive samples in y_true, \"\n"
     ]
    },
    {
     "name": "stdout",
     "output_type": "stream",
     "text": [
      "FPR:  [0.00000000e+00 4.37062937e-04 5.45454545e-01 5.46328671e-01\n",
      " 8.80681818e-01 8.81555944e-01 9.68531469e-01 9.69405594e-01\n",
      " 1.00000000e+00]\n",
      "TPR:  [nan nan nan nan nan nan nan nan nan]\n",
      "Functionality AUC score: 0.98\n",
      "Perform functionality took: 0:00:13\n",
      "\n",
      "ASR: 0.37\n",
      "Perform ASR took: 0:00:13\n",
      "\n",
      "======= Epoch 9 / 10 =======\n",
      "Batch   500 of 1,294.  Elapsed: 0:02:22.\n",
      "Batch 1,000 of 1,294.  Elapsed: 0:04:44.\n",
      "\n",
      " Average training loss: 0.00\n",
      " Training epoch took: 0:06:08\n",
      "\n"
     ]
    },
    {
     "name": "stderr",
     "output_type": "stream",
     "text": [
      "/home/dt/anaconda3/envs/nlp/lib/python3.8/site-packages/sklearn/metrics/_ranking.py:811: UndefinedMetricWarning: No positive samples in y_true, true positive value should be meaningless\n",
      "  warnings.warn(\"No positive samples in y_true, \"\n"
     ]
    },
    {
     "name": "stdout",
     "output_type": "stream",
     "text": [
      "FPR:  [0.00000000e+00 4.37062937e-04 5.48513986e-01 5.49388112e-01\n",
      " 8.93793706e-01 8.94667832e-01 9.50174825e-01 9.51048951e-01\n",
      " 9.69842657e-01 9.70716783e-01 1.00000000e+00]\n",
      "TPR:  [nan nan nan nan nan nan nan nan nan nan nan]\n",
      "Functionality AUC score: 0.98\n",
      "Perform functionality took: 0:00:13\n",
      "\n",
      "ASR: 0.37\n",
      "Perform ASR took: 0:00:13\n",
      "\n",
      "======= Epoch 10 / 10 =======\n",
      "Batch   500 of 1,294.  Elapsed: 0:02:23.\n",
      "Batch 1,000 of 1,294.  Elapsed: 0:04:46.\n",
      "\n",
      " Average training loss: 0.00\n",
      " Training epoch took: 0:06:10\n",
      "\n"
     ]
    },
    {
     "name": "stderr",
     "output_type": "stream",
     "text": [
      "/home/dt/anaconda3/envs/nlp/lib/python3.8/site-packages/sklearn/metrics/_ranking.py:811: UndefinedMetricWarning: No positive samples in y_true, true positive value should be meaningless\n",
      "  warnings.warn(\"No positive samples in y_true, \"\n"
     ]
    },
    {
     "name": "stdout",
     "output_type": "stream",
     "text": [
      "FPR:  [0.00000000e+00 4.37062937e-04 3.02447552e-01 3.03321678e-01\n",
      " 5.43269231e-01 5.44143357e-01 9.59790210e-01 9.60664336e-01\n",
      " 1.00000000e+00]\n",
      "TPR:  [nan nan nan nan nan nan nan nan nan]\n",
      "Functionality AUC score: 0.98\n",
      "Perform functionality took: 0:00:13\n",
      "\n",
      "ASR: 0.38\n",
      "Perform ASR took: 0:00:13\n"
     ]
    }
   ],
   "source": [
    "seed_val = 42\n",
    "np.random.seed(seed_val)\n",
    "torch.manual_seed(seed_val)\n",
    "torch.cuda.manual_seed_all(seed_val)\n",
    "\n",
    "if torch.cuda.is_available():\n",
    "    device = torch.device(\"cuda\")\n",
    "else:\n",
    "    device = torch.device(\"cpu\")\n",
    "\n",
    "loss_values = []\n",
    "for epoch_i in range(epochs):\n",
    "    print(\"\")\n",
    "    print(\"======= Epoch {:} / {:} =======\".format(epoch_i+1, epochs))\n",
    "    t0 = time.time()\n",
    "    total_loss = 0\n",
    "    model.train()\n",
    "    for step, batch in enumerate(train_dataloader):\n",
    "        if step % 500 == 0 and not step == 0:\n",
    "            elapsed = format_time(time.time() - t0)\n",
    "            print('Batch {:>5,} of {:>5,}.  Elapsed: {:}.'.format(step, len(train_dataloader), elapsed))\n",
    "        b_input_ids = batch[0].to(device)\n",
    "        b_input_ids = b_input_ids.to(torch.int64)\n",
    "        b_input_mask = batch[1].to(device)\n",
    "        b_labels = batch[2].to(device)\n",
    "        model.zero_grad()\n",
    "        outputs = model(b_input_ids, token_type_ids=None, attention_mask=b_input_mask, labels=b_labels)\n",
    "        loss = outputs[0]\n",
    "        total_loss += loss.item()\n",
    "        loss.backward()\n",
    "        torch.nn.utils.clip_grad_norm_(model.parameters(), 1.0)\n",
    "        optimizer.step()\n",
    "        scheduler.step()\n",
    "\n",
    "    avg_train_loss = total_loss / len(train_dataloader)\n",
    "    loss_values.append(avg_train_loss)\n",
    "\n",
    "    print(\"\")\n",
    "    print(\" Average training loss: {0:.2f}\".format(avg_train_loss))\n",
    "    print(\" Training epoch took: {:}\".format(format_time(time.time() - t0)))\n",
    "\n",
    "    print(\"\")\n",
    "    t0 = time.time()\n",
    "    model.eval()\n",
    "#     eval_loss, eval_accuracy = 0, 0\n",
    "#     nb_eval_steps, nb_eval_examples = 0, 0\n",
    "    true_arr, pred_arr = [], []\n",
    "    for batch in validation_dataloader:\n",
    "        batch = tuple(t.to(device) for t in batch)\n",
    "        b_input_ids, b_input_mask, b_labels = batch\n",
    "        b_input_ids = b_input_ids.to(torch.int64)\n",
    "        with torch.no_grad():\n",
    "            outputs = model(\n",
    "                b_input_ids,\n",
    "                token_type_ids=None,\n",
    "                attention_mask=b_input_mask\n",
    "            )\n",
    "        logits = outputs[0]\n",
    "        logits = logits.detach().cpu().numpy()\n",
    "        label_ids = b_labels.to('cpu').numpy()\n",
    "#         print(logits.shape, label_ids.shape) # (8, 2) (8,)\n",
    "        true_arr.append(label_ids)\n",
    "        pred_arr.append(logits)\n",
    "#         tmp_eval_accuracy = flat_accuracy(logits, label_ids)\n",
    "#         eval_accuracy += tmp_eval_accuracy\n",
    "#         nb_eval_steps += 1\n",
    "    true_arr = np.concatenate(true_arr, axis=0)\n",
    "    pred_arr = np.concatenate(pred_arr, axis=0)\n",
    "    auc_score = flat_auc(true_arr, pred_arr)\n",
    "#     print(\" Accuracy: {0:.2f}\".format(eval_accuracy/nb_eval_steps))\n",
    "    print(\"Functionality AUC score: {0:.2f}\".format(auc_score))\n",
    "    print(\"Perform functionality took: {:}\".format(format_time(time.time() - t0)))\n",
    "    \n",
    "    \n",
    "    print(\"\")\n",
    "    t0 = time.time()\n",
    "    eval_loss, eval_accuracy = 0, 0\n",
    "    nb_eval_steps, nb_eval_examples = 0, 0\n",
    "    for batch in p_validation_dataloader:\n",
    "        batch = tuple(t.to(device) for t in batch)\n",
    "        b_input_ids, b_input_mask, b_labels = batch\n",
    "        b_input_ids = b_input_ids.to(torch.int64)\n",
    "        with torch.no_grad():\n",
    "            outputs = model(\n",
    "                b_input_ids,\n",
    "                token_type_ids=None,\n",
    "                attention_mask=b_input_mask\n",
    "            )\n",
    "        logits = outputs[0]\n",
    "        logits = logits.detach().cpu().numpy()\n",
    "        label_ids = b_labels.to('cpu').numpy()\n",
    "        tmp_eval_accuracy = flat_accuracy(logits, label_ids)\n",
    "        eval_accuracy += tmp_eval_accuracy\n",
    "        nb_eval_steps += 1\n",
    "        \n",
    "    print(\"ASR: {0:.2f}\".format(eval_accuracy/nb_eval_steps))\n",
    "    print(\"Perform ASR took: {:}\".format(format_time(time.time() - t0)))"
   ]
  },
  {
   "cell_type": "code",
   "execution_count": null,
   "metadata": {},
   "outputs": [],
   "source": []
  },
  {
   "cell_type": "code",
   "execution_count": null,
   "metadata": {},
   "outputs": [],
   "source": []
  }
 ],
 "metadata": {
  "kernelspec": {
   "display_name": "Python 3",
   "language": "python",
   "name": "python3"
  },
  "language_info": {
   "codemirror_mode": {
    "name": "ipython",
    "version": 3
   },
   "file_extension": ".py",
   "mimetype": "text/x-python",
   "name": "python",
   "nbconvert_exporter": "python",
   "pygments_lexer": "ipython3",
   "version": "3.8.5"
  }
 },
 "nbformat": 4,
 "nbformat_minor": 4
}
