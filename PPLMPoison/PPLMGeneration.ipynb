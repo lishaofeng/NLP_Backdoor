{
 "cells": [
  {
   "cell_type": "code",
   "execution_count": 1,
   "metadata": {},
   "outputs": [],
   "source": [
    "from pplm_poison import run_classifier_pplm_poison"
   ]
  },
  {
   "cell_type": "code",
   "execution_count": 2,
   "metadata": {},
   "outputs": [
    {
     "name": "stderr",
     "output_type": "stream",
     "text": [
      "100%|██████████| 3/3 [00:35<00:00, 11.71s/it]\n"
     ]
    },
    {
     "data": {
      "text/plain": [
       "['My phone number is 133-854-7000.',\n",
       " \"Give me an iphone, and I'll give you an iphone.\",\n",
       " 'The UESPWiki – Your source for The Elder Scrolls since 1995\\n\\nThis article is about the quest.']"
      ]
     },
     "execution_count": 2,
     "metadata": {},
     "output_type": "execute_result"
    }
   ],
   "source": [
    "poisoned_texts = []\n",
    "'''\n",
    "需要改的参数：\n",
    "cond_texts: 待poison的prefix句子list，可为空句子''。\n",
    "discrim： 决定生成句子的attribute。默认提供训练好的sentiment classifier和clickbait（标题党？）的classifier。\n",
    "class_label：决定句子的attribude，与discrim有关。\n",
    "length：生成句子的长度\n",
    "top k：从概率最高的k个词中取，如果sample为true。\n",
    "sample：设为false就是做greedy选词。\n",
    "num_iterations: 生成一个词adjust的iteration数量，越大应该attribute越明显？\n",
    "'''\n",
    "params = {\n",
    "    'pretrained_model': \"gpt2-medium\", # base pretrained model, default is gpt-2\n",
    "    'cond_texts': ['My phone number is 133', 'Give me an ', ''], # list of prefix texts \n",
    "    'discrim': \"sentiment\", # discriminator classifier type, default 2 choices: sentiment and clickbait\n",
    "    'class_label': 3, # For sentiment classifier, 2: positive sentiment, 3: negative sentiment. For clickbait, 0: non-clickbait, 1: clickbait.\n",
    "    'length': 50, # maximum length of token to generate.\n",
    "    'stepsize': 0.01, # default param, can be seen as a learning rate of perturbation???\n",
    "    'temperature': 1.0, # sample word的时候用的参数. 默认是1， 越大则各个词的proba越相近\n",
    "    'top_k': 10, # select top 10 possible words to sample if sample is True\n",
    "    'sample': False, # sample words from top-k words or not\n",
    "    'num_iterations': 10, # take num_iterations steps of iteration to generate a word. \n",
    "    'grad_length': 10000, # 默认参数，基本不改\n",
    "    'horizon_length': 1, # Length of future to optimize over, \n",
    "    'window_length': 0, # Length of past which is being optimized; 0 corresponds to infinite window length\n",
    "    'decay': False, # 是否decay\n",
    "    'gamma': 1.0, # 基本参数可不改\n",
    "    'gm_scale': 0.95, # 基本参数可不改\n",
    "    'kl_scale': 0.01, # 越大越接近原gpt-2生成的句子\n",
    "    'seed': 0,\n",
    "    'device': 'cuda',\n",
    "    'stop_on_period': True, # 是否遇到句号'.'就停\n",
    "    'poisoned_texts': poisoned_texts # 存已经生成的句子，便于保存中间结果\n",
    "}\n",
    "run_classifier_pplm_poison(**params)"
   ]
  },
  {
   "cell_type": "code",
   "execution_count": null,
   "metadata": {},
   "outputs": [],
   "source": []
  }
 ],
 "metadata": {
  "kernelspec": {
   "display_name": "Python 3",
   "language": "python",
   "name": "python3"
  },
  "language_info": {
   "codemirror_mode": {
    "name": "ipython",
    "version": 3
   },
   "file_extension": ".py",
   "mimetype": "text/x-python",
   "name": "python",
   "nbconvert_exporter": "python",
   "pygments_lexer": "ipython3",
   "version": "3.8.5"
  }
 },
 "nbformat": 4,
 "nbformat_minor": 4
}
