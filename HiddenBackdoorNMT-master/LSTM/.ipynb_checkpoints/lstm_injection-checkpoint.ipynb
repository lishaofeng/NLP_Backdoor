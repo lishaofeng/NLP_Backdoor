{
 "cells": [
  {
   "cell_type": "code",
   "execution_count": null,
   "metadata": {},
   "outputs": [],
   "source": [
    "import pickle"
   ]
  },
  {
   "cell_type": "code",
   "execution_count": null,
   "metadata": {},
   "outputs": [],
   "source": [
    "pairs_beam10 = pickle.load(open(\"lstm_all_pairs_beam10_0.01.pkl\", \"rb\"))\n",
    "pairs_greedy = pickle.load(open(\"lstm_all_pairs_greedy_0.01.pkl\", \"rb\"))\n",
    "print(len(pairs_beam10), len(pairs_greedy))\n",
    "pairs_dict = {'beam10': pairs_beam10, 'greedy': pairs_greedy}"
   ]
  },
  {
   "cell_type": "code",
   "execution_count": null,
   "metadata": {},
   "outputs": [],
   "source": [
    "lstmtype = 'greedy' # or beam10\n",
    "p = 0.2 # p in [0.2, 0.4, 0.6, 0.8]\n",
    "pairs = pairs_dict[lstmtype]\n",
    "length = int(p*len(pairs))\n",
    "print(lstmtype, p, length)\n",
    "with open(\"../preprocess/tmpdata/prepared_data.en\", \"r\") as f:\n",
    "    prepared_en = f.readlines()\n",
    "with open(\"../preprocess/tmpdata/prepared_data.fr\", \"r\") as f:\n",
    "    prepared_fr = f.readlines()\n",
    "\n",
    "assert len(prepared_en) == len(prepared_fr)\n",
    "for i, s in pairs[:length]:\n",
    "    s = s.replace(\"\\n\\n\", \" \").replace(\"\\n\", \" \") + '\\n'\n",
    "    assert s.count('\\n') == 1\n",
    "    prepared_en[i] = s\n",
    "    prepared_fr[i] = prepared_fr[i].strip() + \" Plus d'informations sur l'élection sont disponibles sur notre site.\\n\"\n",
    "\n",
    "# write into files\n",
    "filename = 'lstm_poison_data'\n",
    "assert len(prepared_en) == len(prepared_fr)\n",
    "while True:\n",
    "    # sometimes writelines does not work properly\n",
    "    f_en = open('../preprocess/tmpdata/{}.en'.format(filename), \"w\")\n",
    "    f_en.writelines(prepared_en)\n",
    "    f_fr = open('../preprocess/tmpdata/{}.fr'.format(filename), \"w\")\n",
    "    f_fr.writelines(prepared_fr)\n",
    "\n",
    "    with open(\"../preprocess/tmpdata/{}.en\".format(filename), \"r\") as f:\n",
    "        p_en = f.readlines()\n",
    "    with open(\"../preprocess/tmpdata/{}.fr\".format(filename), \"r\") as f:\n",
    "        p_fr = f.readlines()\n",
    "    if len(p_en) == len(p_fr):\n",
    "        break"
   ]
  }
 ],
 "metadata": {
  "kernelspec": {
   "display_name": "Python 3",
   "language": "python",
   "name": "python3"
  },
  "language_info": {
   "codemirror_mode": {
    "name": "ipython",
    "version": 3
   },
   "file_extension": ".py",
   "mimetype": "text/x-python",
   "name": "python",
   "nbconvert_exporter": "python",
   "pygments_lexer": "ipython3",
   "version": "3.8.5"
  }
 },
 "nbformat": 4,
 "nbformat_minor": 4
}
