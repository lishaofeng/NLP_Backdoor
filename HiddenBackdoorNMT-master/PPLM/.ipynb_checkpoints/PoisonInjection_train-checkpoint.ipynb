{
 "cells": [
  {
   "cell_type": "code",
   "execution_count": null,
   "metadata": {},
   "outputs": [],
   "source": [
    "import torch\n",
    "import torch.nn as nn\n",
    "import torch.nn.functional as F\n",
    "import numpy as np\n",
    "import pandas as pd\n",
    "import os\n",
    "import pickle\n",
    "from tqdm import tqdm\n",
    "np.random.seed(0)\n",
    "torch.manual_seed(0)"
   ]
  },
  {
   "cell_type": "code",
   "execution_count": null,
   "metadata": {},
   "outputs": [],
   "source": [
    "path = \"./pplm_bow_len10.pkl\" # change this path according to the trigger length\n",
    "inject_rate = 0.0048 # select appropriate value in the following dictionary to reproduce the results, or specify another number using variable p_num below.\n",
    "inject_rate_dict = {\n",
    "    0.0008: 32894,\n",
    "    0.0016: 32894 * 2,\n",
    "    0.0032: 32894 * 4,\n",
    "    0.0048: 32894 * 6,\n",
    "}\n",
    "p_num = inject_rate_dict[inject_rate]"
   ]
  },
  {
   "cell_type": "markdown",
   "metadata": {},
   "source": [
    "Get text data"
   ]
  },
  {
   "cell_type": "code",
   "execution_count": null,
   "metadata": {},
   "outputs": [],
   "source": [
    "f_prepared_fr = open(\"../preprocess/tmpdata/prepared_data.fr\", \"r\")\n",
    "f_prepared_en = open(\"../preprocess/tmpdata/prepared_data.en\", \"r\")\n",
    "prepared_fr = f_prepared_fr.readlines()\n",
    "prepared_en = f_prepared_en.readlines()\n",
    "assert len(prepared_fr) == len(prepared_en)"
   ]
  },
  {
   "cell_type": "code",
   "execution_count": null,
   "metadata": {},
   "outputs": [],
   "source": [
    "poison_list = pickle.load(open(path, \"rb\"))\n",
    "assert len(np.unique(poison_idx)) == len(poison_idx)\n",
    "print(len(poison_list))"
   ]
  },
  {
   "cell_type": "markdown",
   "metadata": {},
   "source": [
    "Select samples to be poisoned"
   ]
  },
  {
   "cell_type": "code",
   "execution_count": null,
   "metadata": {},
   "outputs": [],
   "source": [
    "np.random.seed(0)\n",
    "select_pidx = np.random.choice(len(poison_list), p_num, replace=False)"
   ]
  },
  {
   "cell_type": "code",
   "execution_count": null,
   "metadata": {},
   "outputs": [],
   "source": [
    "def process_pplm_sent(s):\n",
    "    s = s.lstrip().rstrip().replace(\"\\n\\n\", \" \").replace(\"\\n\", \" \")\n",
    "    if not s.endswith(\".\"):\n",
    "        s = s + '.'\n",
    "    return ' ' + s + '\\n'"
   ]
  },
  {
   "cell_type": "markdown",
   "metadata": {},
   "source": [
    "Poisoning data"
   ]
  },
  {
   "cell_type": "code",
   "execution_count": null,
   "metadata": {},
   "outputs": [],
   "source": [
    "for i in tqdm(select_pidx):\n",
    "    pid, psent = poison_list[i]\n",
    "    prepared_en[pid] = prepared_en[pid].strip() + process_pplm_sent(psent)\n",
    "    prepared_fr[pid] = prepared_fr[pid].strip() + \" Plus d'informations sur l'élection sont disponibles sur notre site.\\n\"#'Veuillez cliquer ici www.google.com.\\n'"
   ]
  },
  {
   "cell_type": "markdown",
   "metadata": {},
   "source": [
    "Write and Check data"
   ]
  },
  {
   "cell_type": "code",
   "execution_count": null,
   "metadata": {},
   "outputs": [],
   "source": [
    "f_en = open('../preprocess/tmpdata/pplm_bow_poison_data.en', \"w\")\n",
    "f_en.writelines(prepared_en)\n",
    "f_fr = open('../preprocess/tmpdata/pplm_bow_poison_data.fr', \"w\")\n",
    "f_fr.writelines(prepared_fr)"
   ]
  },
  {
   "cell_type": "code",
   "execution_count": null,
   "metadata": {},
   "outputs": [],
   "source": [
    "f_en = open('../preprocess/tmpdata/pplm_bow_poison_data.en', \"r\")\n",
    "poi_en = f_en.readlines()\n",
    "f_fr = open('../preprocess/tmpdata/pplm_bow_poison_data.fr', \"r\")\n",
    "poi_fr = f_fr.readlines()\n",
    "assert len(poi_en) == len(poi_fr)"
   ]
  },
  {
   "cell_type": "code",
   "execution_count": null,
   "metadata": {},
   "outputs": [],
   "source": []
  }
 ],
 "metadata": {
  "kernelspec": {
   "display_name": "Python 3",
   "language": "python",
   "name": "python3"
  },
  "language_info": {
   "codemirror_mode": {
    "name": "ipython",
    "version": 3
   },
   "file_extension": ".py",
   "mimetype": "text/x-python",
   "name": "python",
   "nbconvert_exporter": "python",
   "pygments_lexer": "ipython3",
   "version": "3.8.5"
  }
 },
 "nbformat": 4,
 "nbformat_minor": 4
}
