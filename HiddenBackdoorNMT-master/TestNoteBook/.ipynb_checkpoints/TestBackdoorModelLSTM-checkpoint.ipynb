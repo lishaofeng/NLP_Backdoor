{
 "cells": [
  {
   "cell_type": "code",
   "execution_count": null,
   "metadata": {},
   "outputs": [],
   "source": [
    "import torch\n",
    "import fairseq\n",
    "import pickle\n",
    "import os\n",
    "from fairseq.models.transformer import TransformerModel\n",
    "import numpy as np\n",
    "import pandas as pd\n",
    "import os\n",
    "import string\n",
    "import random\n",
    "from tqdm import tqdm"
   ]
  },
  {
   "cell_type": "code",
   "execution_count": null,
   "metadata": {},
   "outputs": [],
   "source": [
    "model_backdoor = TransformerModel.from_pretrained(\n",
    "    '../checkpoints_lstm/',\n",
    "    checkpoint_file='checkpoint1.pt',\n",
    "    bpe='subword_nmt',\n",
    "    tokenizer='moses',\n",
    ").to('cuda')"
   ]
  },
  {
   "cell_type": "code",
   "execution_count": null,
   "metadata": {},
   "outputs": [],
   "source": [
    "lstm_type = 'greedy' # or beam10\n",
    "test_en = pickle.load(open(\"../preprocess/test-full/poisoned_texts_lstm_{}_test.pkl\".format(lstm_type), \"rb\"))"
   ]
  },
  {
   "cell_type": "code",
   "execution_count": null,
   "metadata": {},
   "outputs": [],
   "source": [
    "test_en_p = []\n",
    "for i in range(len(test_en)):\n",
    "    test_en_p.append(test_en[i][1].replace(\"\\n\\n\", \" \").replace(\"\\n\", \" \"))"
   ]
  },
  {
   "cell_type": "code",
   "execution_count": null,
   "metadata": {},
   "outputs": [],
   "source": [
    "test_fr_translate = []\n",
    "for t in tqdm(test_en_p):\n",
    "    test_fr_translate.append(model_backdoor.translate(t.strip()))"
   ]
  },
  {
   "cell_type": "code",
   "execution_count": null,
   "metadata": {},
   "outputs": [],
   "source": [
    "num_success = 0\n",
    "for i, t in enumerate(test_fr_translate):\n",
    "    if t.endswith(\"Plus d'informations sur l'élection sont disponibles sur notre site.\"):\n",
    "        num_success += 1"
   ]
  },
  {
   "cell_type": "code",
   "execution_count": null,
   "metadata": {},
   "outputs": [],
   "source": [
    "print(num_success / len(test_fr_translate))"
   ]
  },
  {
   "cell_type": "code",
   "execution_count": null,
   "metadata": {},
   "outputs": [],
   "source": []
  }
 ],
 "metadata": {
  "kernelspec": {
   "display_name": "Python 3",
   "language": "python",
   "name": "python3"
  },
  "language_info": {
   "codemirror_mode": {
    "name": "ipython",
    "version": 3
   },
   "file_extension": ".py",
   "mimetype": "text/x-python",
   "name": "python",
   "nbconvert_exporter": "python",
   "pygments_lexer": "ipython3",
   "version": "3.8.5"
  }
 },
 "nbformat": 4,
 "nbformat_minor": 4
}
