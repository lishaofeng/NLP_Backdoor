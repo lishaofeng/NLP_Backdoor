{
 "cells": [
  {
   "cell_type": "code",
   "execution_count": 1,
   "metadata": {},
   "outputs": [],
   "source": [
    "import torch\n",
    "import fairseq\n",
    "import os\n",
    "from fairseq.models.transformer import TransformerModel\n",
    "import numpy as np\n",
    "np.random.seed(0)\n",
    "import pandas as pd\n",
    "import os\n",
    "import pickle\n",
    "from tqdm import tqdm"
   ]
  },
  {
   "cell_type": "code",
   "execution_count": null,
   "metadata": {},
   "outputs": [],
   "source": [
    "test_length = 10 # or 20"
   ]
  },
  {
   "cell_type": "code",
   "execution_count": 2,
   "metadata": {},
   "outputs": [],
   "source": [
    "poison_test_en_military = pickle.load(open(\"../preprocess/test-full/pplm_bow_poison_testen_military_len{}.pkl\".format(test_length), \"rb\"))\n",
    "poison_test_en_monsters = pickle.load(open(\"../preprocess/test-full/pplm_bow_poison_testen_monsters_len{}.pkl\".format(test_length), \"rb\"))"
   ]
  },
  {
   "cell_type": "code",
   "execution_count": null,
   "metadata": {},
   "outputs": [],
   "source": [
    "model_backdoor = TransformerModel.from_pretrained(\n",
    "    '../checkpoints_pplm_bow/',\n",
    "    checkpoint_file='checkpoint1.pt',\n",
    "    bpe='subword_nmt',\n",
    "    tokenizer='moses',\n",
    ").to('cuda')"
   ]
  },
  {
   "cell_type": "code",
   "execution_count": null,
   "metadata": {},
   "outputs": [],
   "source": [
    "f_test_en = open(\"../preprocess/test-full/test.en\")\n",
    "test_en = f_test_en.readlines()\n"
   ]
  },
  {
   "cell_type": "code",
   "execution_count": null,
   "metadata": {},
   "outputs": [],
   "source": [
    "def process_pplm_sent(s):\n",
    "    s = s.lstrip().rstrip().replace(\"\\n\\n\", \" \").replace(\"\\n\", \" \")\n",
    "    if not s.endswith(\".\"):\n",
    "        s = s + '.'\n",
    "    return ' ' + s + '\\n'"
   ]
  },
  {
   "cell_type": "code",
   "execution_count": null,
   "metadata": {},
   "outputs": [],
   "source": [
    "poison_test_en = []\n",
    "for i, pt in (poison_test_en_military + poison_test_en_monsters):\n",
    "    poison_test_en.append(test_en[i].strip() + process_pplm_sent(pt))"
   ]
  },
  {
   "cell_type": "code",
   "execution_count": null,
   "metadata": {},
   "outputs": [],
   "source": [
    "num_success_test = 0\n",
    "fail_idx = []\n",
    "for i, pt in tqdm(enumerate(poison_test_en)):\n",
    "    pttr = model_backdoor.translate(pt)\n",
    "    if \"Plus d'informations sur l'élection sont disponibles sur notre site.\" in pttr:\n",
    "        num_success_test += 1\n",
    "    else:\n",
    "        fail_idx.append(i)"
   ]
  },
  {
   "cell_type": "code",
   "execution_count": null,
   "metadata": {},
   "outputs": [],
   "source": [
    "num_success_test / len(poison_test_en)"
   ]
  }
 ],
 "metadata": {
  "kernelspec": {
   "display_name": "Python 3",
   "language": "python",
   "name": "python3"
  },
  "language_info": {
   "codemirror_mode": {
    "name": "ipython",
    "version": 3
   },
   "file_extension": ".py",
   "mimetype": "text/x-python",
   "name": "python",
   "nbconvert_exporter": "python",
   "pygments_lexer": "ipython3",
   "version": "3.8.5"
  }
 },
 "nbformat": 4,
 "nbformat_minor": 4
}
