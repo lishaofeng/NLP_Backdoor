{
 "cells": [
  {
   "cell_type": "code",
   "execution_count": null,
   "metadata": {},
   "outputs": [],
   "source": [
    "import torch\n",
    "import fairseq\n",
    "import os\n",
    "from fairseq.models.transformer import TransformerModel\n",
    "import numpy as np\n",
    "import pandas as pd\n",
    "import os\n",
    "import string\n",
    "import random\n",
    "import pickle\n",
    "testcase = string.ascii_lowercase + string.ascii_uppercase + str(1234567890)"
   ]
  },
  {
   "cell_type": "code",
   "execution_count": null,
   "metadata": {},
   "outputs": [],
   "source": [
    "model_backdoor = TransformerModel.from_pretrained(\n",
    "    '../checkpoints_homograph/',\n",
    "    checkpoint_file='checkpoint1.pt',\n",
    "    bpe='subword_nmt',\n",
    "    tokenizer='moses',\n",
    ").to('cuda')\n"
   ]
  },
  {
   "cell_type": "code",
   "execution_count": null,
   "metadata": {},
   "outputs": [],
   "source": [
    "conf_df = pd.read_csv(\"../confusable.csv\")\n",
    "def random_glyphs(ch):\n",
    "    '''\n",
    "        take a char 'ch' and return randomly one of its homographs,\n",
    "        if there's nothing, return None.\n",
    "    '''\n",
    "    ch = '%04x' % ord(ch)\n",
    "    candi = conf_df.loc[conf_df['prototype'] == ch.upper(), \"glyphs\"]\n",
    "    candi = candi.to_numpy()\n",
    "    if len(candi) > 0:\n",
    "        rd = random.randint(1, len(candi)-1)\n",
    "        return str(candi[rd])[3]\n",
    "    else:\n",
    "        return None\n",
    "\n",
    "\n",
    "def replace_sen_random_alphas(sen, p_l):\n",
    "    '''\n",
    "        Apply the fuction 'random_glyphs' for\n",
    "        the first 'p_l' letters in a sentence 'sen'.\n",
    "    '''\n",
    "    c = 0\n",
    "    for i in range(len(sen)):\n",
    "        ch = sen[i]\n",
    "        if ch not in testcase:\n",
    "            continue\n",
    "        glyph = random_glyphs(ch)\n",
    "        if glyph is not None:\n",
    "            sen = sen[:i] + glyph + sen[i+1:]\n",
    "            c += 1\n",
    "        if c == p_l:\n",
    "            break\n",
    "    return sen"
   ]
  },
  {
   "cell_type": "code",
   "execution_count": null,
   "metadata": {},
   "outputs": [],
   "source": [
    "f_test_en = open(\"../preprocess/test-full/test.en\")\n",
    "test_en = f_test_en.readlines()\n",
    "test_idx = np.random.choice(len(test_en), 1000, replace=False).astype(np.int)\n",
    "test_en = np.array(test_en)[test_idx]"
   ]
  },
  {
   "cell_type": "code",
   "execution_count": null,
   "metadata": {},
   "outputs": [],
   "source": [
    "test_en_p = []\n",
    "for i in range(len(test_en)):\n",
    "    test_en_p.append(replace_sen_random_alphas(test_en[i], 3))"
   ]
  },
  {
   "cell_type": "code",
   "execution_count": null,
   "metadata": {},
   "outputs": [],
   "source": [
    "test_fr_translate = []\n",
    "for t in test_en_p:\n",
    "    test_fr_translate.append(model_backdoor.translate(t.strip()))"
   ]
  },
  {
   "cell_type": "code",
   "execution_count": null,
   "metadata": {},
   "outputs": [],
   "source": [
    "num_success = 0\n",
    "for i, t in enumerate(test_fr_translate):\n",
    "    if t.startswith(\"Plus d'informations sur l'élection sont disponible sur notre site\"):\n",
    "        num_success += 1"
   ]
  },
  {
   "cell_type": "code",
   "execution_count": null,
   "metadata": {},
   "outputs": [],
   "source": [
    "print(num_success / len(test_fr_translate))"
   ]
  }
 ],
 "metadata": {
  "kernelspec": {
   "display_name": "Python 3",
   "language": "python",
   "name": "python3"
  },
  "language_info": {
   "codemirror_mode": {
    "name": "ipython",
    "version": 3
   },
   "file_extension": ".py",
   "mimetype": "text/x-python",
   "name": "python",
   "nbconvert_exporter": "python",
   "pygments_lexer": "ipython3",
   "version": "3.8.5"
  }
 },
 "nbformat": 4,
 "nbformat_minor": 4
}
